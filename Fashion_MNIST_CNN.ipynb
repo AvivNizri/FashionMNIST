{
  "nbformat": 4,
  "nbformat_minor": 0,
  "metadata": {
    "colab": {
      "name": "DL_EX2: Fashion MNIST CNN",
      "provenance": [],
      "collapsed_sections": [],
      "include_colab_link": true
    },
    "kernelspec": {
      "name": "python3",
      "display_name": "Python 3"
    }
  },
  "cells": [
    {
      "cell_type": "markdown",
      "metadata": {
        "id": "view-in-github",
        "colab_type": "text"
      },
      "source": [
        "<a href=\"https://colab.research.google.com/github/AvivNizri/FashionMNIST/blob/master/Fashion_MNIST_CNN.ipynb\" target=\"_parent\"><img src=\"https://colab.research.google.com/assets/colab-badge.svg\" alt=\"Open In Colab\"/></a>"
      ]
    },
    {
      "cell_type": "markdown",
      "metadata": {
        "id": "dYgpzGuMdx8-",
        "colab_type": "text"
      },
      "source": [
        "**Assignment # 2, CNN over Fasion MNIST**\n",
        "\n",
        "In this assignment you are requested to build a convolutional network and train it over the Fasion MNIST data, which is a collection of 28X28 back and white images, classified into 10 different classes of clothing items. For more information about Fashion MNIST you may refer to: \n",
        "https://github.com/zalandoresearch/fashion-mnist "
      ]
    },
    {
      "cell_type": "code",
      "metadata": {
        "id": "Q5w6wIzcd1LG",
        "colab_type": "code",
        "outputId": "96393678-109d-40ba-f13a-0a98f12c798f",
        "colab": {
          "base_uri": "https://localhost:8080/",
          "height": 255
        }
      },
      "source": [
        "# Loading Fashion MNIST\n",
        "\n",
        "import torch\n",
        "import torch.nn as nn\n",
        "import torchvision\n",
        "import torchvision.transforms as transforms\n",
        "import torch.nn.functional as F\n",
        "from datetime import datetime\n",
        "\n",
        "trainset = torchvision.datasets.FashionMNIST(root='./data', train=True,\n",
        "                                        download=True, transform=transforms.ToTensor())\n",
        "\n",
        "testset = torchvision.datasets.FashionMNIST(root='./data', train=False,\n",
        "                                       download=True, transform=transforms.ToTensor())\n",
        "\n",
        "classes = ('T-shirt/top', 'Trouser', 'Pullover', 'Dress',\n",
        "           'Coat', 'Sandal', 'Shirt', 'Sneaker', 'Bag', 'Ankle boot')"
      ],
      "execution_count": 0,
      "outputs": [
        {
          "output_type": "stream",
          "text": [
            "  0%|          | 40960/26421880 [00:00<01:14, 355991.59it/s]"
          ],
          "name": "stderr"
        },
        {
          "output_type": "stream",
          "text": [
            "Downloading http://fashion-mnist.s3-website.eu-central-1.amazonaws.com/train-images-idx3-ubyte.gz to ./data/FashionMNIST/raw/train-images-idx3-ubyte.gz\n"
          ],
          "name": "stdout"
        },
        {
          "output_type": "stream",
          "text": [
            "26427392it [00:00, 62679263.07it/s]                             \n"
          ],
          "name": "stderr"
        },
        {
          "output_type": "stream",
          "text": [
            "Extracting ./data/FashionMNIST/raw/train-images-idx3-ubyte.gz to ./data/FashionMNIST/raw\n"
          ],
          "name": "stdout"
        },
        {
          "output_type": "stream",
          "text": [
            "32768it [00:00, 302439.19it/s]                           \n",
            "0it [00:00, ?it/s]"
          ],
          "name": "stderr"
        },
        {
          "output_type": "stream",
          "text": [
            "Downloading http://fashion-mnist.s3-website.eu-central-1.amazonaws.com/train-labels-idx1-ubyte.gz to ./data/FashionMNIST/raw/train-labels-idx1-ubyte.gz\n",
            "Extracting ./data/FashionMNIST/raw/train-labels-idx1-ubyte.gz to ./data/FashionMNIST/raw\n",
            "Downloading http://fashion-mnist.s3-website.eu-central-1.amazonaws.com/t10k-images-idx3-ubyte.gz to ./data/FashionMNIST/raw/t10k-images-idx3-ubyte.gz\n"
          ],
          "name": "stdout"
        },
        {
          "output_type": "stream",
          "text": [
            "4423680it [00:00, 20821256.28it/s]                           \n",
            "8192it [00:00, 185991.72it/s]\n"
          ],
          "name": "stderr"
        },
        {
          "output_type": "stream",
          "text": [
            "Extracting ./data/FashionMNIST/raw/t10k-images-idx3-ubyte.gz to ./data/FashionMNIST/raw\n",
            "Downloading http://fashion-mnist.s3-website.eu-central-1.amazonaws.com/t10k-labels-idx1-ubyte.gz to ./data/FashionMNIST/raw/t10k-labels-idx1-ubyte.gz\n",
            "Extracting ./data/FashionMNIST/raw/t10k-labels-idx1-ubyte.gz to ./data/FashionMNIST/raw\n",
            "Processing...\n",
            "Done!\n"
          ],
          "name": "stdout"
        }
      ]
    },
    {
      "cell_type": "code",
      "metadata": {
        "id": "0Xs3rDG0xBmL",
        "colab_type": "code",
        "colab": {}
      },
      "source": [
        "# Use dataloaders for train and test (batch size is 4)\n",
        "\n",
        "trainloader = torch.utils.data.DataLoader(trainset, batch_size=4,\n",
        "                                          shuffle=True)\n",
        "\n",
        "testloader = torch.utils.data.DataLoader(testset, batch_size=4,\n",
        "                                         shuffle=False)"
      ],
      "execution_count": 0,
      "outputs": []
    },
    {
      "cell_type": "code",
      "metadata": {
        "id": "bKOHObeAj99B",
        "colab_type": "code",
        "outputId": "b103fed1-164d-40b1-b5fb-db3fe4080838",
        "colab": {
          "base_uri": "https://localhost:8080/",
          "height": 34
        }
      },
      "source": [
        "# The images are of 1, 28, 28 size (only one black-white channel)\n",
        "\n",
        "trainset[0][0].shape"
      ],
      "execution_count": 0,
      "outputs": [
        {
          "output_type": "execute_result",
          "data": {
            "text/plain": [
              "torch.Size([1, 28, 28])"
            ]
          },
          "metadata": {
            "tags": []
          },
          "execution_count": 3
        }
      ]
    },
    {
      "cell_type": "markdown",
      "metadata": {
        "id": "E6jH2cjTVnVi",
        "colab_type": "text"
      },
      "source": [
        "Here is what you need to do; you are encoureged to look at notebook \"DL Notebook 9 - CIFAR CNN\" when trying to complete the next steps.\n",
        "\n",
        "\n",
        "Write a network CNNFMnist, that has the following architecture:\n",
        "\n",
        "* Convolution with 10 3X3 filters\n",
        "* Relu\n",
        "* Max pool with 2X2\n",
        "* Convolution with 5 3X3 filters\n",
        "* Relu\n",
        "* Convolution with 16 3X3 filters\n",
        "* Relu\n",
        "* Max pool with 2X2\n",
        "* Liner, output size 128\n",
        "* Relu\n",
        "* Liner, output size 64\n",
        "* Relu\n",
        "* Liner, output size 10"
      ]
    },
    {
      "cell_type": "code",
      "metadata": {
        "id": "hoiGc1-donFO",
        "colab_type": "code",
        "colab": {}
      },
      "source": [
        "class CNNFMnist(nn.Module):\n",
        "\n",
        "    def __init__(self):\n",
        "        super(CNNFMnist, self).__init__()\n",
        "        self.features = nn.Sequential(\n",
        "            # 1 input image channel (black&white), 10 Filters, 3x3 square convolution filters\n",
        "            nn.Conv2d(1,10,3),\n",
        "            nn.ReLU(True),\n",
        "            nn.MaxPool2d(kernel_size=2, stride=2),\n",
        "\n",
        "            nn.Conv2d(10,5,3),\n",
        "            nn.ReLU(True),\n",
        "\n",
        "            nn.Conv2d(5,16,3),\n",
        "            nn.ReLU(True),\n",
        "            nn.MaxPool2d(kernel_size=2, stride=2)\n",
        "        )\n",
        "\n",
        "        self.classifier = nn.Sequential(\n",
        "            # fully connected layers\n",
        "            nn.Linear(16*4*4, 128),\n",
        "            nn.ReLU(True),\n",
        "\n",
        "            nn.Linear(128,64),\n",
        "            nn.ReLU(True),\n",
        "\n",
        "            nn.Linear(64,10)\n",
        "        )\n",
        "\n",
        "    def forward(self, x):\n",
        "        x = self.features(x)\n",
        "        x = x.view(-1, self.num_flat_features(x))\n",
        "        x = self.classifier(x)\n",
        "        return x\n",
        "\n",
        "    def num_flat_features(self, x):\n",
        "        size = x.size()[1:]  # all dimensions except the batch dimension\n",
        "        num_features = 1\n",
        "        for s in size:\n",
        "            num_features *= s\n",
        "        #print(f'{num_features}')\n",
        "        return num_features\n"
      ],
      "execution_count": 0,
      "outputs": []
    },
    {
      "cell_type": "code",
      "metadata": {
        "id": "ior-2qiqdGUT",
        "colab_type": "code",
        "outputId": "968ef755-2873-4369-e812-04765b01607a",
        "colab": {
          "base_uri": "https://localhost:8080/",
          "height": 340
        }
      },
      "source": [
        "#net = CNNFMnist().cuda()     # For GPU\n",
        "net = CNNFMnist()           # For CPU\n",
        "\n",
        "print(net)"
      ],
      "execution_count": 0,
      "outputs": [
        {
          "output_type": "stream",
          "text": [
            "CNNFMnist(\n",
            "  (features): Sequential(\n",
            "    (0): Conv2d(1, 10, kernel_size=(3, 3), stride=(1, 1))\n",
            "    (1): ReLU(inplace=True)\n",
            "    (2): MaxPool2d(kernel_size=2, stride=2, padding=0, dilation=1, ceil_mode=False)\n",
            "    (3): Conv2d(10, 5, kernel_size=(3, 3), stride=(1, 1))\n",
            "    (4): ReLU(inplace=True)\n",
            "    (5): Conv2d(5, 16, kernel_size=(3, 3), stride=(1, 1))\n",
            "    (6): ReLU(inplace=True)\n",
            "    (7): MaxPool2d(kernel_size=2, stride=2, padding=0, dilation=1, ceil_mode=False)\n",
            "  )\n",
            "  (classifier): Sequential(\n",
            "    (0): Linear(in_features=256, out_features=128, bias=True)\n",
            "    (1): ReLU(inplace=True)\n",
            "    (2): Linear(in_features=128, out_features=64, bias=True)\n",
            "    (3): ReLU(inplace=True)\n",
            "    (4): Linear(in_features=64, out_features=10, bias=True)\n",
            "  )\n",
            ")\n"
          ],
          "name": "stdout"
        }
      ]
    },
    {
      "cell_type": "markdown",
      "metadata": {
        "id": "ksWPM9kvYWmC",
        "colab_type": "text"
      },
      "source": [
        "Write a code that trains the network with FashionMNIST train dataset, for classification (use cross entropy, and SGD).\n",
        "Run the network for at least 10 epochs, over the entire dataset. Make sure to print the loss over the train set as well as the **test set** over time (say, every 1000 batches, but it's up to you), so you will know where you are during training. \n",
        "\n",
        "Note, measuring loss of test is similar to measuring loss over the train test. However, make sure not to run the test images in back propagation. Use them only in forward and calulate the average loss over the entire test set. Since it will make the training process run slower, you should measure loss for the test set only at the end of an epoch (so overall you get 10 loss values for the test set). You are encoureged to write a different function for claculating the loss of the test set, and then call it from the training procedure.\n",
        "\n",
        "\n",
        "You should collect the loss values in an array, so you can plot then into two curves, one for train and one for test.\n",
        "\n",
        "In addition, you should measure the time it takes you to train the network completely.\n",
        "\n"
      ]
    },
    {
      "cell_type": "code",
      "metadata": {
        "id": "vJ7qX52gY5-a",
        "colab_type": "code",
        "colab": {}
      },
      "source": [
        "# define loss function\n",
        "criterion = nn.CrossEntropyLoss()\n",
        "\n",
        "# define the optimizer\n",
        "optimizer = torch.optim.SGD(net.parameters(), lr=0.001, momentum=0.9)\n"
      ],
      "execution_count": 0,
      "outputs": []
    },
    {
      "cell_type": "code",
      "metadata": {
        "id": "8Rg5_U2eWCMJ",
        "colab_type": "code",
        "colab": {}
      },
      "source": [
        "# function to evaluate the loss over the test set\n",
        "# use it during training every epoch to measure the progress\n",
        "# this module runs without BackProp\n",
        "def test_model():\n",
        "  run_loss = 0.0\n",
        "  for i, data in enumerate(testloader, 0):\n",
        "\n",
        "      inputs, labels = data\n",
        "      \n",
        "      #inputs = inputs.cuda() # -- For GPU\n",
        "      #labels = labels.cuda() # -- For GPU\n",
        "\n",
        "      outputs = net(inputs)\n",
        "      loss = criterion(outputs, labels)\n",
        "      run_loss += loss.item()\n",
        "  \n",
        "  return run_loss/len(testloader.dataset)"
      ],
      "execution_count": 0,
      "outputs": []
    },
    {
      "cell_type": "code",
      "metadata": {
        "id": "IaMkyuuqnhFq",
        "colab_type": "code",
        "outputId": "058dc7f3-417c-46b2-d780-f494af667c6e",
        "colab": {
          "base_uri": "https://localhost:8080/",
          "height": 1000
        }
      },
      "source": [
        "# training loop\n",
        "NUM_EPOCHS = 10\n",
        "\n",
        "train_loss_list = []\n",
        "test_loss_list = []\n",
        "\n",
        "start=datetime.now()\n",
        "\n",
        "for epoch in range(NUM_EPOCHS):\n",
        "    # will use epoch_loss to measure the loss for every epoch\n",
        "    epoch_loss = 0.0\n",
        "    # will use running_loss to measure the loss for every batch\n",
        "    running_loss = 0.0\n",
        "    for i, data in enumerate(trainloader, 0):\n",
        "        # get the inputs\n",
        "        inputs, labels = data\n",
        "        \n",
        "        #inputs = inputs.cuda() # -- For GPU\n",
        "        #labels = labels.cuda() # -- For GPU\n",
        "\n",
        "        # zero the parameter gradients\n",
        "        optimizer.zero_grad()\n",
        "\n",
        "        # forward + backward + optimize\n",
        "        outputs = net(inputs)\n",
        "        \n",
        "        loss = criterion(outputs, labels)\n",
        "\n",
        "        # back-prop\n",
        "        loss.backward()\n",
        "        optimizer.step()\n",
        "\n",
        "        # print statistics\n",
        "        running_loss += loss.item()\n",
        "        epoch_loss += loss.item()\n",
        "        if (i+1) % 2000 == 0:    \n",
        "            print('[Epoch %d, Step %5d] Training loss: %.3f' %\n",
        "                  (epoch + 1, i + 1, running_loss / 2000))\n",
        "            running_loss = 0.0\n",
        "    \n",
        "    train_loss_list.append(epoch_loss / len(trainloader.dataset))\n",
        "    epoch_loss = 0.0\n",
        "\n",
        "    test_loss = test_model()\n",
        "    test_loss_list.append(test_loss)\n",
        "    print(f'[Epoch {epoch+1}] Test Loss: {test_loss}')\n",
        "    test_loss = 0.0\n",
        "\n",
        "print('Finished Training')\n",
        "\n",
        "print(f'Training Duration : {datetime.now()-start}')"
      ],
      "execution_count": 0,
      "outputs": [
        {
          "output_type": "stream",
          "text": [
            "[Epoch 1, Step  2000] Training loss: 1.789\n",
            "[Epoch 1, Step  4000] Training loss: 0.873\n",
            "[Epoch 1, Step  6000] Training loss: 0.699\n",
            "[Epoch 1, Step  8000] Training loss: 0.608\n",
            "[Epoch 1, Step 10000] Training loss: 0.558\n",
            "[Epoch 1, Step 12000] Training loss: 0.538\n",
            "[Epoch 1, Step 14000] Training loss: 0.517\n",
            "[Epoch 1] Test Loss: 0.123812779399805\n",
            "[Epoch 2, Step  2000] Training loss: 0.473\n",
            "[Epoch 2, Step  4000] Training loss: 0.461\n",
            "[Epoch 2, Step  6000] Training loss: 0.460\n",
            "[Epoch 2, Step  8000] Training loss: 0.439\n",
            "[Epoch 2, Step 10000] Training loss: 0.429\n",
            "[Epoch 2, Step 12000] Training loss: 0.429\n",
            "[Epoch 2, Step 14000] Training loss: 0.411\n",
            "[Epoch 2] Test Loss: 0.098794044405366\n",
            "[Epoch 3, Step  2000] Training loss: 0.410\n",
            "[Epoch 3, Step  4000] Training loss: 0.380\n",
            "[Epoch 3, Step  6000] Training loss: 0.383\n",
            "[Epoch 3, Step  8000] Training loss: 0.394\n",
            "[Epoch 3, Step 10000] Training loss: 0.367\n",
            "[Epoch 3, Step 12000] Training loss: 0.359\n",
            "[Epoch 3, Step 14000] Training loss: 0.363\n",
            "[Epoch 3] Test Loss: 0.09858886070190111\n",
            "[Epoch 4, Step  2000] Training loss: 0.359\n",
            "[Epoch 4, Step  4000] Training loss: 0.341\n",
            "[Epoch 4, Step  6000] Training loss: 0.352\n",
            "[Epoch 4, Step  8000] Training loss: 0.352\n",
            "[Epoch 4, Step 10000] Training loss: 0.338\n",
            "[Epoch 4, Step 12000] Training loss: 0.315\n",
            "[Epoch 4, Step 14000] Training loss: 0.342\n",
            "[Epoch 4] Test Loss: 0.09232319159942963\n",
            "[Epoch 5, Step  2000] Training loss: 0.315\n",
            "[Epoch 5, Step  4000] Training loss: 0.331\n",
            "[Epoch 5, Step  6000] Training loss: 0.316\n",
            "[Epoch 5, Step  8000] Training loss: 0.335\n",
            "[Epoch 5, Step 10000] Training loss: 0.317\n",
            "[Epoch 5, Step 12000] Training loss: 0.313\n",
            "[Epoch 5, Step 14000] Training loss: 0.327\n",
            "[Epoch 5] Test Loss: 0.10130244891895744\n",
            "[Epoch 6, Step  2000] Training loss: 0.305\n",
            "[Epoch 6, Step  4000] Training loss: 0.308\n",
            "[Epoch 6, Step  6000] Training loss: 0.313\n",
            "[Epoch 6, Step  8000] Training loss: 0.296\n",
            "[Epoch 6, Step 10000] Training loss: 0.313\n",
            "[Epoch 6, Step 12000] Training loss: 0.306\n",
            "[Epoch 6, Step 14000] Training loss: 0.302\n",
            "[Epoch 6] Test Loss: 0.0868028060072805\n",
            "[Epoch 7, Step  2000] Training loss: 0.289\n",
            "[Epoch 7, Step  4000] Training loss: 0.286\n",
            "[Epoch 7, Step  6000] Training loss: 0.294\n",
            "[Epoch 7, Step  8000] Training loss: 0.296\n",
            "[Epoch 7, Step 10000] Training loss: 0.293\n",
            "[Epoch 7, Step 12000] Training loss: 0.279\n",
            "[Epoch 7, Step 14000] Training loss: 0.284\n",
            "[Epoch 7] Test Loss: 0.08183774170553461\n",
            "[Epoch 8, Step  2000] Training loss: 0.278\n",
            "[Epoch 8, Step  4000] Training loss: 0.283\n",
            "[Epoch 8, Step  6000] Training loss: 0.275\n",
            "[Epoch 8, Step  8000] Training loss: 0.298\n",
            "[Epoch 8, Step 10000] Training loss: 0.286\n",
            "[Epoch 8, Step 12000] Training loss: 0.288\n",
            "[Epoch 8, Step 14000] Training loss: 0.277\n",
            "[Epoch 8] Test Loss: 0.0795607303313569\n",
            "[Epoch 9, Step  2000] Training loss: 0.257\n",
            "[Epoch 9, Step  4000] Training loss: 0.270\n",
            "[Epoch 9, Step  6000] Training loss: 0.276\n",
            "[Epoch 9, Step  8000] Training loss: 0.271\n",
            "[Epoch 9, Step 10000] Training loss: 0.272\n",
            "[Epoch 9, Step 12000] Training loss: 0.263\n",
            "[Epoch 9, Step 14000] Training loss: 0.292\n",
            "[Epoch 9] Test Loss: 0.08217152118082793\n",
            "[Epoch 10, Step  2000] Training loss: 0.252\n",
            "[Epoch 10, Step  4000] Training loss: 0.257\n",
            "[Epoch 10, Step  6000] Training loss: 0.264\n",
            "[Epoch 10, Step  8000] Training loss: 0.265\n",
            "[Epoch 10, Step 10000] Training loss: 0.273\n",
            "[Epoch 10, Step 12000] Training loss: 0.274\n",
            "[Epoch 10, Step 14000] Training loss: 0.268\n",
            "[Epoch 10] Test Loss: 0.08028490276353069\n",
            "Finished Training\n",
            "Training Duration : 0:12:24.975430\n"
          ],
          "name": "stdout"
        }
      ]
    },
    {
      "cell_type": "markdown",
      "metadata": {
        "id": "Aa0sxqAhY8wA",
        "colab_type": "text"
      },
      "source": [
        "Write a function that evaluates the resulted model over the entire test data of FashionMNIST. Provide a single accuracy number."
      ]
    },
    {
      "cell_type": "code",
      "metadata": {
        "id": "C7mJUzhlz46X",
        "colab_type": "code",
        "outputId": "8194a3a3-7d27-4ae9-dffe-c0ab2b14d6bf",
        "colab": {
          "base_uri": "https://localhost:8080/",
          "height": 438
        }
      },
      "source": [
        "import matplotlib.pyplot as plt\n",
        "from google.colab import drive\n",
        "drive.mount('/content/drive', force_remount=True)\n",
        "MODEL_STORE_PATH = '/content/drive/My Drive/DLcourse/Task2'\n",
        "\n",
        "print(test_loss_list)\n",
        "print(train_loss_list)\n",
        "\n",
        "plt.style.use(\"ggplot\")\n",
        "\n",
        "plt.plot(range(NUM_EPOCHS), test_loss_list, label=\"Test_Loss\")\n",
        "plt.plot(range(NUM_EPOCHS), train_loss_list, label=\"Train_Loss\")\n",
        "\n",
        "plt.title(\"CPU : Training Loss and Test Loss on FashionMNIST Dataset\")\n",
        "plt.xlabel(\"Epoch\")\n",
        "plt.ylabel(\"Loss\")\n",
        "plt.legend(loc=\"center\")\n",
        "plt.savefig(f'{MODEL_STORE_PATH}/CPUplot.png')"
      ],
      "execution_count": 0,
      "outputs": [
        {
          "output_type": "stream",
          "text": [
            "Go to this URL in a browser: https://accounts.google.com/o/oauth2/auth?client_id=947318989803-6bn6qk8qdgf4n4g3pfee6491hc0brc4i.apps.googleusercontent.com&redirect_uri=urn%3aietf%3awg%3aoauth%3a2.0%3aoob&response_type=code&scope=email%20https%3a%2f%2fwww.googleapis.com%2fauth%2fdocs.test%20https%3a%2f%2fwww.googleapis.com%2fauth%2fdrive%20https%3a%2f%2fwww.googleapis.com%2fauth%2fdrive.photos.readonly%20https%3a%2f%2fwww.googleapis.com%2fauth%2fpeopleapi.readonly\n",
            "\n",
            "Enter your authorization code:\n",
            "··········\n",
            "Mounted at /content/drive\n",
            "[0.123812779399805, 0.098794044405366, 0.09858886070190111, 0.09232319159942963, 0.10130244891895744, 0.0868028060072805, 0.08183774170553461, 0.0795607303313569, 0.08217152118082793, 0.08028490276353069]\n",
            "[0.1947608498371182, 0.11013604114996293, 0.09413985888446377, 0.08548252635373693, 0.0801901790703984, 0.07657688269708153, 0.07260220628009174, 0.07064857958682472, 0.0683417202548883, 0.06629095649838132]\n"
          ],
          "name": "stdout"
        },
        {
          "output_type": "display_data",
          "data": {
            "image/png": "[encoded data removed]",
            "text/plain": [
              "<Figure size 432x288 with 1 Axes>"
            ]
          },
          "metadata": {
            "tags": []
          }
        }
      ]
    },
    {
      "cell_type": "code",
      "metadata": {
        "id": "uzuGund9aBOp",
        "colab_type": "code",
        "outputId": "5ce81105-32aa-40f8-e911-378435129aeb",
        "colab": {
          "base_uri": "https://localhost:8080/",
          "height": 34
        }
      },
      "source": [
        "#from google.colab import drive\n",
        "#drive.mount('/content/drive', force_remount=True)\n",
        "#MODEL_STORE_PATH = '/content/drive/My Drive/DLcourse/Task2'\n",
        "\n",
        "correct = 0\n",
        "total = 0\n",
        "with torch.no_grad():\n",
        "    for data in testloader:\n",
        "        images, labels = data\n",
        "        #images = images.cuda()  # -- for GPU\n",
        "        #labels = labels.cuda()  # -- for GPU\n",
        "\n",
        "        outputs = net(images)\n",
        "        _, predicted = torch.max(outputs.data, 1)\n",
        "        total += labels.size(0)\n",
        "        correct += (predicted == labels).sum().item()\n",
        "\n",
        "print('Accuracy of the network on the test images: %d %%' % (100 * correct / total))\n",
        "\n",
        "# Save the model and plot\n",
        "#torch.save(net.state_dict(), MODEL_STORE_PATH + 'conv_net_model.ckpt')"
      ],
      "execution_count": 0,
      "outputs": [
        {
          "output_type": "stream",
          "text": [
            "Accuracy of the network on the test images: 88 %\n"
          ],
          "name": "stdout"
        }
      ]
    },
    {
      "cell_type": "markdown",
      "metadata": {
        "id": "rMnb9gSGaIjP",
        "colab_type": "text"
      },
      "source": [
        "# Training with a GPU \n",
        "You are requested to change your code to use the GPU instead of the CPU.\n",
        "This can be easily done bu converting every torch.tensor to torch.cuda.tensor. \n",
        "\n",
        "Specific instructions:\n",
        "* Change the hardware equipent of your colab notebook. To do that, go to the \"Runtime\" menu, and then to \"Change runtime type\". In the dialog box, change \"Hardware accelerator\" to GPU.\n",
        "* Please follow the lines that were commented out with the comment    # -- For GPU\n",
        "* Also, remove the lines that have the comment # -- For CPU\n",
        "\n",
        "Train your network again and compare training time."
      ]
    },
    {
      "cell_type": "markdown",
      "metadata": {
        "id": "Vm5DnMate6s0",
        "colab_type": "text"
      },
      "source": [
        "# Submission instructions\n",
        "\n",
        "You should submit a pdf file with the following items:\n",
        "\n",
        "CPU Experiment:\n",
        "*   Plot of loss curves (train in blue, test in red)\n",
        "*   Training time\n",
        "\n",
        "GPU Experiment:\n",
        "*   Plot of loss curves (train in blue, test in red)\n",
        "*   Training time\n",
        "\n",
        "Link for your collab notebook.\n",
        "ID and names of submitters.\n",
        "\n",
        "\n",
        "Good luck!"
      ]
    }
  ]
}